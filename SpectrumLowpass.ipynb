{
 "cells": [
  {
   "cell_type": "code",
   "execution_count": 3,
   "metadata": {},
   "outputs": [],
   "source": [
    "from PIL import Image\n",
    "from PIL import ImageDraw\n",
    "import numpy as np\n",
    "from matplotlib import pyplot as plt"
   ]
  },
  {
   "cell_type": "code",
   "execution_count": 4,
   "metadata": {},
   "outputs": [],
   "source": [
    "# パワースペクトルに対してローパスフィルタをかけて出力します。\n",
    "def SpectrumLowpass(filename,ellipse_r):\n",
    "    \"\"\"\n",
    "        filename : 元画像\n",
    "        ellipse_r : ローパスフィルタの半径\n",
    "    \"\"\"\n",
    "    # 画像を読み込む\n",
    "    img = Image.open(filename)\n",
    "    # グレイスケールに変換する\n",
    "    gray_img = img.convert('L')\n",
    "    # NumPy 配列にする\n",
    "    f_xy = np.asarray(gray_img)\n",
    "\n",
    "    # 2 次元高速フーリエ変換で周波数領域の情報を取り出す\n",
    "    f_uv = np.fft.fft2(f_xy)\n",
    "    # 画像の中心に低周波数の成分がくるように並べかえる\n",
    "    shifted_f_uv = np.fft.fftshift(f_uv)\n",
    "\n",
    "    # フィルタ (ローパス) を用意する\n",
    "    x_pass_filter = Image.new(mode='L',  # 8-bit pixels, black and white\n",
    "                              size=(shifted_f_uv.shape[0],\n",
    "                                    shifted_f_uv.shape[1]),\n",
    "                              color=0,  # default black\n",
    "                              )\n",
    "    # 中心に円を描く\n",
    "    draw = ImageDraw.Draw(x_pass_filter)\n",
    "    # 円の半径\n",
    "#     ellipse_r = 5\n",
    "    # 画像の中心\n",
    "    center = (shifted_f_uv.shape[0] // 2,\n",
    "              shifted_f_uv.shape[1] // 2)\n",
    "    # 円の座標\n",
    "    ellipse_pos = (center[0] - ellipse_r,\n",
    "                   center[1] - ellipse_r,\n",
    "                   center[0] + ellipse_r,\n",
    "                   center[1] + ellipse_r)\n",
    "    draw.ellipse(ellipse_pos, fill=255)\n",
    "    # フィルタ\n",
    "    filter_array = np.asarray(x_pass_filter)\n",
    "\n",
    "    # フィルタを適用する\n",
    "    filtered_f_uv = np.multiply(shifted_f_uv, filter_array)\n",
    "\n",
    "    # パワースペクトルに変換する\n",
    "    magnitude_spectrum2d = 20 * np.log(np.absolute(filtered_f_uv))\n",
    "\n",
    "    # 元の並びに直す\n",
    "    unshifted_f_uv = np.fft.fftshift(filtered_f_uv)\n",
    "    # 2 次元逆高速フーリエ変換で空間領域の情報に戻す\n",
    "    i_f_xy = np.fft.ifft2(unshifted_f_uv).real  # 実数部だけ使う\n",
    "\n",
    "    # 上記を画像として可視化する\n",
    "    fig, axes = plt.subplots(1, 4, figsize=(12, 4))\n",
    "    # 枠線と目盛りを消す\n",
    "    for ax in axes:\n",
    "        for spine in ax.spines.values():\n",
    "            spine.set_visible(False)\n",
    "        ax.set_xticks([])\n",
    "        ax.set_yticks([])\n",
    "    # 元画像\n",
    "    axes[0].imshow(f_xy, cmap='gray')\n",
    "    axes[0].set_title('Input Image')\n",
    "    # フィルタ画像\n",
    "    axes[1].imshow(filter_array, cmap='gray')\n",
    "    axes[1].set_title('Filter Image')\n",
    "    # フィルタされた周波数領域のパワースペクトル\n",
    "    axes[2].imshow(magnitude_spectrum2d, cmap='gray')\n",
    "    axes[2].set_title('Filtered Magnitude Spectrum')\n",
    "    # FFT -> Band-pass Filter -> IFFT した画像\n",
    "    axes[3].imshow(i_f_xy, cmap='gray')\n",
    "    axes[3].set_title('Reversed Image')\n",
    "    # グラフを表示する\n",
    "    plt.show()"
   ]
  },
  {
   "cell_type": "code",
   "execution_count": 5,
   "metadata": {},
   "outputs": [
    {
     "name": "stderr",
     "output_type": "stream",
     "text": [
      "/Users/okadamasayuki/opt/anaconda3/lib/python3.7/site-packages/ipykernel_launcher.py:45: RuntimeWarning: divide by zero encountered in log\n"
     ]
    },
    {
     "data": {
      "image/png": "[encoded data removed]",
      "text/plain": [
       "<Figure size 864x288 with 4 Axes>"
      ]
     },
     "metadata": {},
     "output_type": "display_data"
    }
   ],
   "source": [
    "SpectrumLowpass('H.png',7)"
   ]
  },
  {
   "cell_type": "code",
   "execution_count": null,
   "metadata": {},
   "outputs": [],
   "source": []
  }
 ],
 "metadata": {
  "kernelspec": {
   "display_name": "Python 3",
   "language": "python",
   "name": "python3"
  },
  "language_info": {
   "codemirror_mode": {
    "name": "ipython",
    "version": 3
   },
   "file_extension": ".py",
   "mimetype": "text/x-python",
   "name": "python",
   "nbconvert_exporter": "python",
   "pygments_lexer": "ipython3",
   "version": "3.7.4"
  }
 },
 "nbformat": 4,
 "nbformat_minor": 2
}
