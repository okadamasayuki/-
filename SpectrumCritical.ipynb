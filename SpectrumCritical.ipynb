{
 "cells": [
  {
   "cell_type": "code",
   "execution_count": 2,
   "metadata": {},
   "outputs": [],
   "source": [
    "from PIL import Image\n",
    "from PIL import ImageDraw\n",
    "import numpy as np\n",
    "from matplotlib import pyplot as plt\n",
    "import pandas as pd"
   ]
  },
  {
   "cell_type": "code",
   "execution_count": 12,
   "metadata": {},
   "outputs": [],
   "source": [
    "# ローパスフィルタとハイパスフィルタの両方をかけて、特定の周波数だけのパワースペクトルを出力します。\n",
    "def SpectrumCritical(filename, ellipse_r_L, ellipse_r_S):\n",
    "    \"\"\"\n",
    "        filename : 元画像\n",
    "        ellipse_r_L : 外側の半径\n",
    "        ellipse_r_S : 内側の半径\n",
    "    \"\"\"\n",
    "    # 画像を読み込む\n",
    "    img = Image.open(filename)\n",
    "    # グレイスケールに変換する\n",
    "    gray_img = img.convert('L')\n",
    "    # NumPy 配列にする\n",
    "    f_xy = np.asarray(gray_img)\n",
    "\n",
    "    # 2 次元高速フーリエ変換で周波数領域の情報を取り出す\n",
    "    f_uv = np.fft.fft2(f_xy)\n",
    "    # 画像の中心に低周波数の成分がくるように並べかえる\n",
    "    shifted_f_uv = np.fft.fftshift(f_uv)\n",
    "\n",
    "    ########################\n",
    "    \n",
    "    # フィルタ (ローパス) を用意する\n",
    "    x_lowpass_filter = Image.new(mode='L',  # 8-bit pixels, black and white\n",
    "                              size=(shifted_f_uv.shape[0],\n",
    "                                    shifted_f_uv.shape[1]),\n",
    "                              color=0,  # default black\n",
    "                              )\n",
    "    # 中心に円を描く\n",
    "    draw = ImageDraw.Draw(x_lowpass_filter)\n",
    "    # 円の半径  ↓↓↓↓↓↓↓↓↓↓↓↓↓↓↓↓↓↓↓↓↓↓↓↓↓↓↓↓\n",
    "#     ellipse_r_L = 10\n",
    "    #  ↑↑↑↑↑↑↑↑↑↑↑↑↑↑↑↑↑↑↑↑↑↑↑↑↑↑↑↑↑↑↑↑\n",
    "    # 画像の中心\n",
    "    center = (shifted_f_uv.shape[0] // 2,\n",
    "              shifted_f_uv.shape[1] // 2)\n",
    "    # 円の座標\n",
    "    ellipse_pos = (center[0] - ellipse_r_L,\n",
    "                   center[1] - ellipse_r_L,\n",
    "                   center[0] + ellipse_r_L,\n",
    "                   center[1] + ellipse_r_L)\n",
    "    draw.ellipse(ellipse_pos, fill=255)\n",
    "    # フィルタ\n",
    "    lowfilter_array = np.asarray(x_lowpass_filter)\n",
    "\n",
    "    # フィルタを適用する\n",
    "    lowfiltered_f_uv = np.multiply(shifted_f_uv, lowfilter_array)\n",
    "    \n",
    "    ########################\n",
    "    \n",
    "    # フィルタ (ハイパス) を用意する\n",
    "    x_highpass_filter = Image.new(mode='L',  # 8-bit pixels, black and white\n",
    "                              size=(shifted_f_uv.shape[0],\n",
    "                                    shifted_f_uv.shape[1]),\n",
    "                              color=255,  # default white\n",
    "                              )\n",
    "    # 中心に円を描く\n",
    "    draw = ImageDraw.Draw(x_highpass_filter)\n",
    "    # 円の半径  ↓↓↓↓↓↓↓↓↓↓↓↓↓↓↓↓↓↓↓↓↓↓↓↓↓↓↓↓\n",
    "#     ellipse_r_S =5\n",
    "    #  ↑↑↑↑↑↑↑↑↑↑↑↑↑↑↑↑↑↑↑↑↑↑↑↑↑↑↑↑↑↑↑↑\n",
    "    # 画像の中心\n",
    "    center = (shifted_f_uv.shape[0] // 2,\n",
    "              shifted_f_uv.shape[1] // 2)\n",
    "    # 円の座標\n",
    "    ellipse_pos = (center[0] - ellipse_r_S,\n",
    "                   center[1] - ellipse_r_S,\n",
    "                   center[0] + ellipse_r_S,\n",
    "                   center[1] + ellipse_r_S)\n",
    "    draw.ellipse(ellipse_pos, fill=0)\n",
    "    # フィルタ\n",
    "    highfilter_array = np.asarray(x_highpass_filter)\n",
    "\n",
    "    # フィルタを適用する\n",
    "    filtered_f_uv = np.multiply(lowfiltered_f_uv, highfilter_array)\n",
    "\n",
    "    # パワースペクトルに変換する\n",
    "    magnitude_spectrum2d = 20 * np.log(np.absolute(filtered_f_uv))\n",
    "\n",
    "    # 元の並びに直す\n",
    "    unshifted_f_uv = np.fft.fftshift(filtered_f_uv)\n",
    "    # 2 次元逆高速フーリエ変換で空間領域の情報に戻す\n",
    "    i_f_xy = np.fft.ifft2(unshifted_f_uv).real  # 実数部だけ使う\n",
    "\n",
    "    # 上記を画像として可視化する\n",
    "    fig, axes = plt.subplots(1, 4, figsize=(12, 4))\n",
    "    # 枠線と目盛りを消す\n",
    "    for ax in axes:\n",
    "        for spine in ax.spines.values():\n",
    "            spine.set_visible(False)\n",
    "        ax.set_xticks([])\n",
    "        ax.set_yticks([])\n",
    "    # 元画像\n",
    "    axes[0].imshow(f_xy, cmap='gray')\n",
    "    axes[0].set_title('Input Image')\n",
    "    # フィルタ画像\n",
    "#     axes[1].imshow(highfilter_array, cmap='gray')\n",
    "#     axes[1].set_title('Filter Image')\n",
    "    # フィルタされた周波数領域のパワースペクトル\n",
    "    axes[2].imshow(magnitude_spectrum2d, cmap='gray')\n",
    "    axes[2].set_title('Filtered Magnitude Spectrum')\n",
    "    # FFT -> Band-pass Filter -> IFFT した画像\n",
    "    axes[3].imshow(i_f_xy, cmap='gray')\n",
    "    axes[3].set_title('Reversed Image')\n",
    "    # グラフを表示する\n",
    "    plt.show()\n",
    "    \n",
    "#     print(type(magnitude_spectrum2d))\n",
    "#     np.histogram(magnitude_spectrum2d)\n",
    "    x=magnitude_spectrum2d.reshape(1,-1)\n",
    "    x_data= pd.DataFrame(x)\n",
    "    df= x_data.replace([np.inf, -np.inf], np.nan)\n",
    "    \n",
    "#     print(df)\n",
    "    gyo=np.array(df)[0]\n",
    "#     print(type(gyo))\n",
    "#     plt.hist(df)\n",
    "    \n",
    "#     magnitude_spectrum2d_inf = np.where(magnitude_spectrum2d < 0 , 0, magnitude_spectrum2d)\n",
    "#     print(magnitude_spectrum2d_inf)\n",
    "    \n",
    "#     np.histogram(np.array(df))\n",
    "#     print(np.sum(magnitude_spectrum2d_inf))\n",
    "    \n",
    "#     img = np.asarray(magnitude_spectrum2d_inf).reshape(-1,1) \n",
    "\n",
    "#     print(\"start\")\n",
    "#     plt.hist(np.asarray(df).reshape(-1,1),bins=128)\n",
    "#     print(np.nansum(gyo))\n",
    "#     plt.show()\n",
    "#     print(\"end\")\n",
    "\n",
    "#     import matplotlib\n",
    "#     matplotlib.image.imsave('name.png', i_f_xy)\n"
   ]
  },
  {
   "cell_type": "code",
   "execution_count": 13,
   "metadata": {},
   "outputs": [
    {
     "name": "stderr",
     "output_type": "stream",
     "text": [
      "/Users/okadamasayuki/opt/anaconda3/lib/python3.7/site-packages/ipykernel_launcher.py:77: RuntimeWarning: divide by zero encountered in log\n"
     ]
    },
    {
     "data": {
      "image/png": "[encoded data removed]",
      "text/plain": [
       "<Figure size 864x288 with 4 Axes>"
      ]
     },
     "metadata": {},
     "output_type": "display_data"
    }
   ],
   "source": [
    "SpectrumCritical('H.png',10,6)"
   ]
  },
  {
   "cell_type": "code",
   "execution_count": 14,
   "metadata": {},
   "outputs": [
    {
     "name": "stdout",
     "output_type": "stream",
     "text": [
      "Initialized empty Git repository in /Users/okadamasayuki/修論実験/.git/\r\n"
     ]
    }
   ],
   "source": [
    "!git init"
   ]
  },
  {
   "cell_type": "code",
   "execution_count": 29,
   "metadata": {},
   "outputs": [
    {
     "name": "stdout",
     "output_type": "stream",
     "text": [
      "[master af1a616] add SpectrumLowpass\n",
      " 1 file changed, 152 insertions(+)\n",
      " create mode 100644 SpectrumLowpass.ipynb\n",
      "Enumerating objects: 4, done.\n",
      "Counting objects: 100% (4/4), done.\n",
      "Delta compression using up to 4 threads\n",
      "Compressing objects: 100% (3/3), done.\n",
      "Writing objects: 100% (3/3), 17.84 KiB | 8.92 MiB/s, done.\n",
      "Total 3 (delta 0), reused 0 (delta 0)\n",
      "To https://github.com/okadamasayuki/-.git\n",
      "   4b9e98d..af1a616  master -> master\n"
     ]
    }
   ],
   "source": [
    "!git add SpectrumLowpass.ipynb\n",
    "!git commit -m \"add SpectrumLowpass\"\n",
    "!git push origin master"
   ]
  },
  {
   "cell_type": "code",
   "execution_count": 26,
   "metadata": {},
   "outputs": [
    {
     "name": "stdout",
     "output_type": "stream",
     "text": [
      "[master (root-commit) 4b9e98d] first comment\n",
      " 1 file changed, 360 insertions(+)\n",
      " create mode 100644 SpectrumCritical.ipynb\n"
     ]
    }
   ],
   "source": [
    "!git commit -m \"first comment\""
   ]
  },
  {
   "cell_type": "code",
   "execution_count": 27,
   "metadata": {},
   "outputs": [
    {
     "name": "stdout",
     "output_type": "stream",
     "text": [
      "fatal: remote origin already exists.\r\n"
     ]
    }
   ],
   "source": [
    "!git remote add origin https://github.com/okadamasayuki/-.git"
   ]
  },
  {
   "cell_type": "code",
   "execution_count": 28,
   "metadata": {},
   "outputs": [
    {
     "name": "stdout",
     "output_type": "stream",
     "text": [
      "Enumerating objects: 3, done.\n",
      "Counting objects: 100% (3/3), done.\n",
      "Delta compression using up to 4 threads\n",
      "Compressing objects: 100% (3/3), done.\n",
      "Writing objects: 100% (3/3), 22.92 KiB | 11.46 MiB/s, done.\n",
      "Total 3 (delta 0), reused 0 (delta 0)\n",
      "To https://github.com/okadamasayuki/-.git\n",
      " * [new branch]      master -> master\n"
     ]
    }
   ],
   "source": [
    "!git push origin master"
   ]
  },
  {
   "cell_type": "code",
   "execution_count": 22,
   "metadata": {},
   "outputs": [],
   "source": [
    "!git branch"
   ]
  },
  {
   "cell_type": "code",
   "execution_count": 23,
   "metadata": {},
   "outputs": [
    {
     "name": "stdout",
     "output_type": "stream",
     "text": [
      "On branch master\r\n",
      "\r\n",
      "No commits yet\r\n",
      "\r\n",
      "Untracked files:\r\n",
      "  (use \"git add <file>...\" to include in what will be committed)\r\n",
      "\r\n",
      "\t\u001b[31m.ipynb_checkpoints/\u001b[m\r\n",
      "\t\u001b[31mH.png\u001b[m\r\n",
      "\t\u001b[31mPhaseChange.ipynb\u001b[m\r\n",
      "\t\u001b[31mSpectrumCritical.ipynb\u001b[m\r\n",
      "\t\u001b[31mSpectrumHighpass.ipynb\u001b[m\r\n",
      "\t\u001b[31mSpectrumLowpass.ipynb\u001b[m\r\n",
      "\t\u001b[31mUntitled2.ipynb\u001b[m\r\n",
      "\t\u001b[31mUntitled3.ipynb\u001b[m\r\n",
      "\t\u001b[31mUntitled4.ipynb\u001b[m\r\n",
      "\t\u001b[31m\"after_\\343\\202\\261\\343\\202\\267\\343\\203\\235\\343\\203\\263.png\"\u001b[m\r\n",
      "\t\u001b[31mgoogle.png\u001b[m\r\n",
      "\t\u001b[31mgray_h.png\u001b[m\r\n",
      "\t\u001b[31mh_2-3.png\u001b[m\r\n",
      "\t\u001b[31mh_2-5.png\u001b[m\r\n",
      "\t\u001b[31mh_5-10.png\u001b[m\r\n",
      "\t\u001b[31mhigh.png\u001b[m\r\n",
      "\t\u001b[31mlow.png\u001b[m\r\n",
      "\t\u001b[31mmedium.png\u001b[m\r\n",
      "\t\u001b[31mnotion_input.png\u001b[m\r\n",
      "\t\u001b[31mnotion_reverse.png\u001b[m\r\n",
      "\t\u001b[31mnumpy_image_mask.jpg\u001b[m\r\n",
      "\t\u001b[31mnumpy_image_mask.png\u001b[m\r\n",
      "\t\u001b[31mout.png\u001b[m\r\n",
      "\t\u001b[31msample.jpg\u001b[m\r\n",
      "\t\u001b[31mtest.jpg\u001b[m\r\n",
      "\t\u001b[31mtest.pdf\u001b[m\r\n",
      "\t\u001b[31mtest.png\u001b[m\r\n",
      "\t\u001b[31mtext.csv\u001b[m\r\n",
      "\t\u001b[31mvery high.png\u001b[m\r\n",
      "\t\u001b[31mvery low.png\u001b[m\r\n",
      "\t\u001b[31m\"\\343\\201\\227\\343\\201\\276\\343\\201\\227\\343\\201\\276.png\"\u001b[m\r\n",
      "\t\u001b[31m\"\\343\\202\\242\\343\\203\\251\\343\\203\\274\\343\\203\\240.mp3\"\u001b[m\r\n",
      "\t\u001b[31m\"\\343\\202\\261\\343\\202\\267\\343\\203\\235\\343\\203\\263.png\"\u001b[m\r\n",
      "\t\u001b[31m\"\\343\\202\\261\\343\\202\\267\\343\\203\\235\\343\\203\\263_2-3.png\"\u001b[m\r\n",
      "\t\u001b[31m\"\\343\\202\\261\\343\\202\\267\\343\\203\\235\\343\\203\\263_2-5.png\"\u001b[m\r\n",
      "\t\u001b[31m\"\\343\\202\\261\\343\\202\\267\\343\\203\\235\\343\\203\\263_5-10.png\"\u001b[m\r\n",
      "\t\u001b[31m\"\\343\\202\\261\\343\\202\\267\\343\\203\\235\\343\\203\\263_h.png\"\u001b[m\r\n",
      "\t\u001b[31m\"\\343\\202\\261\\343\\202\\267\\343\\203\\235\\343\\203\\263_\\343\\201\\262\\343\\202\\211\\343\\201\\214\\343\\201\\252.pdf\"\u001b[m\r\n",
      "\t\u001b[31m\"\\343\\202\\261\\343\\202\\267\\343\\203\\235\\343\\203\\263_\\343\\201\\262\\343\\202\\211\\343\\201\\214\\343\\201\\252.png\"\u001b[m\r\n",
      "\t\u001b[31m\"\\343\\202\\261\\343\\202\\267\\343\\203\\235\\343\\203\\263_\\343\\203\\213\\343\\203\\245\\343\\203\\274\\343\\202\\271.pdf\"\u001b[m\r\n",
      "\t\u001b[31m\"\\343\\202\\261\\343\\202\\267\\343\\203\\235\\343\\203\\263_\\343\\203\\213\\343\\203\\245\\343\\203\\274\\343\\202\\271.png\"\u001b[m\r\n",
      "\t\u001b[31m\"\\343\\202\\261\\343\\202\\267\\343\\203\\235\\343\\203\\263_\\343\\203\\213\\343\\203\\245\\343\\203\\274\\343\\202\\271_\\343\\201\\232\\343\\202\\211\\343\\201\\227\\343\\201\\237.pdf\"\u001b[m\r\n",
      "\t\u001b[31m\"\\343\\202\\261\\343\\202\\267\\343\\203\\235\\343\\203\\263_\\343\\203\\213\\343\\203\\245\\343\\203\\274\\343\\202\\271_\\343\\201\\232\\343\\202\\211\\343\\201\\227\\343\\201\\237.png\"\u001b[m\r\n",
      "\t\u001b[31m\"\\343\\202\\261\\343\\202\\267\\343\\203\\235\\343\\203\\263_\\344\\270\\215\\345\\213\\225\\347\\224\\243.pdf\"\u001b[m\r\n",
      "\t\u001b[31m\"\\343\\202\\261\\343\\202\\267\\343\\203\\235\\343\\203\\263_\\344\\270\\215\\345\\213\\225\\347\\224\\243.png\"\u001b[m\r\n",
      "\t\u001b[31m\"\\343\\202\\261\\343\\202\\267\\343\\203\\235\\343\\203\\263_\\344\\270\\215\\345\\213\\225\\347\\224\\243_\\345\\244\\247\\343\\201\\215\\343\\201\\204.pdf\"\u001b[m\r\n",
      "\t\u001b[31m\"\\343\\202\\261\\343\\202\\267\\343\\203\\235\\343\\203\\263_\\344\\270\\215\\345\\213\\225\\347\\224\\243_\\345\\244\\247\\343\\201\\215\\343\\201\\204.png\"\u001b[m\r\n",
      "\t\u001b[31m\"\\343\\202\\261\\343\\202\\267\\343\\203\\235\\343\\203\\263_\\344\\270\\215\\345\\213\\225\\347\\224\\243_\\347\\264\\260\\347\\267\\232.pdf\"\u001b[m\r\n",
      "\t\u001b[31m\"\\343\\202\\261\\343\\202\\267\\343\\203\\235\\343\\203\\263_\\344\\270\\215\\345\\213\\225\\347\\224\\243_\\347\\264\\260\\347\\267\\232.png\"\u001b[m\r\n",
      "\t\u001b[31m\"\\343\\202\\261\\343\\202\\267\\343\\203\\235\\343\\203\\263_\\344\\270\\215\\345\\213\\225\\347\\224\\243_\\350\\242\\253\\343\\201\\243\\343\\201\\246\\343\\202\\213.pdf\"\u001b[m\r\n",
      "\t\u001b[31m\"\\343\\202\\261\\343\\202\\267\\343\\203\\235\\343\\203\\263_\\344\\270\\215\\345\\213\\225\\347\\224\\243_\\350\\242\\253\\343\\201\\243\\343\\201\\246\\343\\202\\213.png\"\u001b[m\r\n",
      "\t\u001b[31m\"\\343\\202\\261\\343\\202\\267\\343\\203\\235\\343\\203\\263_\\345\\206\\231\\347\\234\\237.png\"\u001b[m\r\n",
      "\t\u001b[31m\"\\343\\202\\271\\343\\203\\232\\343\\203\\201\\343\\202\\247\\343\\203\\203\\343\\202\\2571.png\"\u001b[m\r\n",
      "\t\u001b[31m\"\\343\\202\\271\\343\\203\\232\\343\\203\\201\\343\\202\\247\\343\\203\\203\\343\\202\\2572.png\"\u001b[m\r\n",
      "\t\u001b[31m\"\\343\\202\\271\\343\\203\\232\\343\\203\\201\\343\\202\\247\\343\\203\\203\\343\\202\\2573.png\"\u001b[m\r\n",
      "\t\u001b[31m\"\\343\\202\\271\\343\\203\\232\\343\\203\\201\\343\\202\\247\\343\\203\\203\\343\\202\\2574.png\"\u001b[m\r\n",
      "\t\u001b[31m\"\\344\\270\\200.png\"\u001b[m\r\n",
      "\t\u001b[31m\"\\345\\221\\250\\346\\263\\242\\346\\225\\260\\343\\202\\271\\343\\203\\232\\343\\202\\257\\343\\203\\210\\343\\203\\253.ipynb\"\u001b[m\r\n",
      "\t\u001b[31m\"\\347\\231\\275.png\"\u001b[m\r\n",
      "\t\u001b[31m\"\\351\\250\\223.png\"\u001b[m\r\n",
      "\r\n",
      "nothing added to commit but untracked files present (use \"git add\" to track)\r\n"
     ]
    }
   ],
   "source": [
    "!git status"
   ]
  },
  {
   "cell_type": "code",
   "execution_count": null,
   "metadata": {},
   "outputs": [],
   "source": []
  }
 ],
 "metadata": {
  "kernelspec": {
   "display_name": "Python 3",
   "language": "python",
   "name": "python3"
  },
  "language_info": {
   "codemirror_mode": {
    "name": "ipython",
    "version": 3
   },
   "file_extension": ".py",
   "mimetype": "text/x-python",
   "name": "python",
   "nbconvert_exporter": "python",
   "pygments_lexer": "ipython3",
   "version": "3.7.4"
  }
 },
 "nbformat": 4,
 "nbformat_minor": 2
}
